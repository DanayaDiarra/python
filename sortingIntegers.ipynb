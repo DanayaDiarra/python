{
 "cells": [
  {
   "cell_type": "code",
   "execution_count": 1,
   "id": "86ff08d4-486d-496d-a972-7b0f14d65b12",
   "metadata": {
    "tags": []
   },
   "outputs": [
    {
     "name": "stdin",
     "output_type": "stream",
     "text": [
      "Enter first integer (a):  3\n",
      "Enter second integer (b):  6\n",
      "Enter third integer (c):  4\n"
     ]
    },
    {
     "name": "stdout",
     "output_type": "stream",
     "text": [
      "3 4 6\n"
     ]
    }
   ],
   "source": [
    "\n",
    "\n",
    "# Input three integers  \n",
    "a = int(input(\"Enter integer1_a: \"))  \n",
    "b = int(input(\"Enter integer2_b: \"))  \n",
    "c = int(input(\"Enter integer3_c: \"))  \n",
    "\n",
    "# Sort using if statements  \n",
    "if a > b:  \n",
    "    a, b = b, a  # Swap a and b if a is greater than b  \n",
    "if a > c:  \n",
    "    a, c = c, a  # Swap a and c if a is greater than c  \n",
    "if b > c:  \n",
    "    b, c = c, b  # Swap b and c if b is greater than c  \n",
    "    \n",
    "print(a, b, c)"
   ]
  },
  {
   "cell_type": "code",
   "execution_count": null,
   "id": "1a7c72bd-7cb5-439b-9d1f-dd082366deac",
   "metadata": {},
   "outputs": [],
   "source": []
  }
 ],
 "metadata": {
  "kernelspec": {
   "display_name": "Python 3 (ipykernel)",
   "language": "python",
   "name": "python3"
  },
  "language_info": {
   "codemirror_mode": {
    "name": "ipython",
    "version": 3
   },
   "file_extension": ".py",
   "mimetype": "text/x-python",
   "name": "python",
   "nbconvert_exporter": "python",
   "pygments_lexer": "ipython3",
   "version": "3.10.8"
  }
 },
 "nbformat": 4,
 "nbformat_minor": 5
}
