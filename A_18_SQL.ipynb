{
 "cells": [
  {
   "cell_type": "code",
   "execution_count": 1,
   "id": "6b18d811-81af-4270-8051-1f0651060b04",
   "metadata": {
    "tags": []
   },
   "outputs": [],
   "source": [
    "import os\n",
    "import json\n",
    "import psycopg2\n",
    "from psycopg2.extras import DictCursor\n",
    "POSTGRESQL_HOST = '10.129.0.25'\n",
    "%load_ext sql\n"
   ]
  },
  {
   "cell_type": "code",
   "execution_count": 2,
   "id": "e337f4ec-cbd8-4d90-96b1-452fab91e351",
   "metadata": {
    "tags": []
   },
   "outputs": [],
   "source": [
    "CONNECT_DATA = 'postgresql://{}:{}@{}/{}'.format(\n",
    "    os.environ['POSTGRESQL_USER'],\n",
    "    os.environ['POSTGRESQL_PASSWORD'],\n",
    "    POSTGRESQL_HOST,\n",
    "    'demo'\n",
    ")"
   ]
  },
  {
   "cell_type": "markdown",
   "id": "b1f222b6-ef2f-49d2-aead-79507e9f7fdc",
   "metadata": {},
   "source": [
    "## 1. Output a list of tickets, where number of flights > 3 ##"
   ]
  },
  {
   "cell_type": "code",
   "execution_count": null,
   "id": "6458eab7-ad02-4017-b924-5678b19fb054",
   "metadata": {},
   "outputs": [
    {
     "name": "stdout",
     "output_type": "stream",
     "text": [
      "2949857 rows affected.\n"
     ]
    }
   ],
   "source": [
    "%%sql $CONNECT_DATA\n",
    "SELECT book_ref, passenger_id, COUNT(DISTINCT ticket_no)\n",
    "FROM Tickets\n",
    "GROUP BY book_ref, passenger_id, ticket_no\n",
    "HAVING COUNT(DISTINCT ticket_no)=1\n",
    "ORDER BY ticket_no DESC"
   ]
  },
  {
   "cell_type": "code",
   "execution_count": null,
   "id": "26182e48-bf9f-4203-a5d2-222771730e4e",
   "metadata": {
    "tags": []
   },
   "outputs": [],
   "source": [
    "%%sql $CONNECT_DATA\n",
    "SELECT book_ref, COUNT(ticket_no) as Num_Flights   \n",
    "FROM tickets\n",
    "GROUP BY book_ref\n",
    "ORDER BY Num_Flights desc"
   ]
  },
  {
   "cell_type": "markdown",
   "id": "63ee2c81-806c-4d70-9acd-553161c55fde",
   "metadata": {},
   "source": [
    "2. Output a total number of tickets which have exactly 5 flights"
   ]
  },
  {
   "cell_type": "code",
   "execution_count": null,
   "id": "4d133eed-3576-4afe-845d-7327db32c031",
   "metadata": {},
   "outputs": [],
   "source": [
    "%%sql $CONNECT_DATA\n",
    "SELECT COUNT(*)   \n",
    "FROM Tickets   \n",
    "WHERE num_flights = 5"
   ]
  },
  {
   "cell_type": "code",
   "execution_count": 1,
   "id": "bbfb2d2e-4d8e-464c-802d-023064c90d2b",
   "metadata": {
    "collapsed": true,
    "jupyter": {
     "outputs_hidden": true
    },
    "tags": []
   },
   "outputs": [
    {
     "name": "stdout",
     "output_type": "stream",
     "text": [
      "Requirement already satisfied: ipython-sql in /opt/conda/lib/python3.10/site-packages (0.5.0)\n",
      "Requirement already satisfied: six in /opt/conda/lib/python3.10/site-packages (from ipython-sql) (1.16.0)\n",
      "Requirement already satisfied: sqlalchemy>=2.0 in /opt/conda/lib/python3.10/site-packages (from ipython-sql) (2.0.7)\n",
      "Requirement already satisfied: ipython-genutils in /opt/conda/lib/python3.10/site-packages (from ipython-sql) (0.2.0)\n",
      "Requirement already satisfied: ipython in /opt/conda/lib/python3.10/site-packages (from ipython-sql) (8.11.0)\n",
      "Requirement already satisfied: sqlparse in /opt/conda/lib/python3.10/site-packages (from ipython-sql) (0.4.4)\n",
      "Requirement already satisfied: prettytable in /opt/conda/lib/python3.10/site-packages (from ipython-sql) (3.7.0)\n",
      "Requirement already satisfied: greenlet!=0.4.17 in /opt/conda/lib/python3.10/site-packages (from sqlalchemy>=2.0->ipython-sql) (2.0.2)\n",
      "Requirement already satisfied: typing-extensions>=4.2.0 in /opt/conda/lib/python3.10/site-packages (from sqlalchemy>=2.0->ipython-sql) (4.5.0)\n",
      "Requirement already satisfied: stack-data in /opt/conda/lib/python3.10/site-packages (from ipython->ipython-sql) (0.6.2)\n",
      "Requirement already satisfied: prompt-toolkit!=3.0.37,<3.1.0,>=3.0.30 in /opt/conda/lib/python3.10/site-packages (from ipython->ipython-sql) (3.0.38)\n",
      "Requirement already satisfied: pygments>=2.4.0 in /opt/conda/lib/python3.10/site-packages (from ipython->ipython-sql) (2.14.0)\n",
      "Requirement already satisfied: matplotlib-inline in /opt/conda/lib/python3.10/site-packages (from ipython->ipython-sql) (0.1.6)\n",
      "Requirement already satisfied: pickleshare in /opt/conda/lib/python3.10/site-packages (from ipython->ipython-sql) (0.7.5)\n",
      "Requirement already satisfied: decorator in /opt/conda/lib/python3.10/site-packages (from ipython->ipython-sql) (5.1.1)\n",
      "Requirement already satisfied: backcall in /opt/conda/lib/python3.10/site-packages (from ipython->ipython-sql) (0.2.0)\n",
      "Requirement already satisfied: pexpect>4.3 in /opt/conda/lib/python3.10/site-packages (from ipython->ipython-sql) (4.8.0)\n",
      "Requirement already satisfied: traitlets>=5 in /opt/conda/lib/python3.10/site-packages (from ipython->ipython-sql) (5.9.0)\n",
      "Requirement already satisfied: jedi>=0.16 in /opt/conda/lib/python3.10/site-packages (from ipython->ipython-sql) (0.18.2)\n",
      "Requirement already satisfied: wcwidth in /opt/conda/lib/python3.10/site-packages (from prettytable->ipython-sql) (0.2.6)\n",
      "Requirement already satisfied: parso<0.9.0,>=0.8.0 in /opt/conda/lib/python3.10/site-packages (from jedi>=0.16->ipython->ipython-sql) (0.8.3)\n",
      "Requirement already satisfied: ptyprocess>=0.5 in /opt/conda/lib/python3.10/site-packages (from pexpect>4.3->ipython->ipython-sql) (0.7.0)\n",
      "Requirement already satisfied: pure-eval in /opt/conda/lib/python3.10/site-packages (from stack-data->ipython->ipython-sql) (0.2.2)\n",
      "Requirement already satisfied: executing>=1.2.0 in /opt/conda/lib/python3.10/site-packages (from stack-data->ipython->ipython-sql) (1.2.0)\n",
      "Requirement already satisfied: asttokens>=2.1.0 in /opt/conda/lib/python3.10/site-packages (from stack-data->ipython->ipython-sql) (2.2.1)\n",
      "\u001b[33mWARNING: There was an error checking the latest version of pip.\u001b[0m\u001b[33m\n",
      "\u001b[0m[('postgres',), ('jovyan',), ('template1',), ('template0',)]\n"
     ]
    }
   ],
   "source": [
    "!pip install ipython-sql\n",
    "%load_ext sql\n",
    "import psycopg2\n",
    "\n",
    "with psycopg2.connect(\n",
    "    dbname='jovyan'\n",
    ") as conn:\n",
    "    with conn.cursor() as cur:\n",
    "        cur.execute('SELECT datname FROM pg_database')\n",
    "        records = cur.fetchall()\n",
    "        \n",
    "print(records)"
   ]
  },
  {
   "cell_type": "markdown",
   "id": "425a22d5-a409-4155-8010-771a1564765e",
   "metadata": {},
   "source": [
    "## 3. Create and fill 2 tables exactly like those below"
   ]
  },
  {
   "cell_type": "markdown",
   "id": "a16e72e9-3731-47e4-9a04-47c02dbd6b50",
   "metadata": {},
   "source": [
    "SQL Script for Departments Table"
   ]
  },
  {
   "cell_type": "code",
   "execution_count": 7,
   "id": "b20c599d-376c-4981-91ac-5e835fb2cfeb",
   "metadata": {},
   "outputs": [
    {
     "name": "stdout",
     "output_type": "stream",
     "text": [
      "(psycopg2.errors.DuplicateTable) relation \"staff\" already exists\n",
      "\n",
      "[SQL: CREATE Table Staff (  \n",
      "    EMPLOYEE_ID INT PRIMARY KEY,  \n",
      "    FIRST_NAME VARCHAR(50),  \n",
      "    LAST_NAME VARCHAR(50),  \n",
      "    HIRE_DATE DATE,  \n",
      "    JOB_ID VARCHAR(10),  \n",
      "    MANAGER_ID INT,  \n",
      "    DEPARTMENT_ID INT  \n",
      ");]\n",
      "(Background on this error at: https://sqlalche.me/e/20/f405)\n"
     ]
    }
   ],
   "source": [
    "%%sql postgresql:///jovyan\n",
    "CREATE Table Staff (  \n",
    "    EMPLOYEE_ID INT PRIMARY KEY,  \n",
    "    FIRST_NAME VARCHAR(50),  \n",
    "    LAST_NAME VARCHAR(50),  \n",
    "    HIRE_DATE DATE,  \n",
    "    JOB_ID VARCHAR(10),  \n",
    "    MANAGER_ID INT,  \n",
    "    DEPARTMENT_ID INT  \n",
    ");  \n",
    "\n",
    "INSERT INTO Staff (EMPLOYEE_ID, FIRST_NAME, LAST_NAME, HIRE_DATE, JOB_ID, MANAGER_ID, DEPARTMENT_ID) VALUES  \n",
    "(200, 'Alice', 'Johnson', '1990-01-15', 'HR_REP', 201, 40),  \n",
    "(201, 'Bob', 'Smith', '1990-02-20', 'HR_MGR', NULL, 40),  \n",
    "(202, 'Charlie', 'Brown', '1990-03-25', 'IT_PROG', 203, 60),  \n",
    "(203, 'David', 'Wilson', '1990-04-30', 'IT_MGR', NULL, 60),  \n",
    "(204, 'Eva', 'Davis', '1990-05-05', 'SA_REP', 205, 80),  \n",
    "(205, 'Frank', 'Miller', '1990-06-10', 'SA_MGR', NULL, 80),  \n",
    "(206, 'Grace', 'Lee', '1990-07-15', 'FI_ACCOUNT', 207, 100),  \n",
    "(207, 'Hank', 'Taylor', '1990-08-20', 'FI_MGR', NULL, 100),  \n",
    "(208, 'Ivy', 'Anderson', '1990-09-25', 'PU_CLERK', 209, 30),  \n",
    "(209, 'Jack', 'Thomas', '1990-10-30', 'PU_MAN', NULL, 30),  \n",
    "(210, 'Karen', 'White', '1990-11-05', 'ST_CLERK', 211, 50),  \n",
    "(211, 'Leo', 'Harris', '1990-12-10', 'ST_MGR', NULL, 50),  \n",
    "(212, 'Mia', 'Clark', '1991-01-15', 'AD_ASST', 213, 90),  \n",
    "(213, 'Nina', 'Lewis', '1991-02-20', 'AD_VP', 214, 90),  \n",
    "(214, 'Oscar', 'Walker', '1991-03-25', 'AD_PRES', NULL, 90);\n"
   ]
  },
  {
   "cell_type": "code",
   "execution_count": 8,
   "id": "122b6bcd-9e40-4ef0-a25f-b255ecba7e52",
   "metadata": {
    "tags": []
   },
   "outputs": [
    {
     "name": "stdout",
     "output_type": "stream",
     "text": [
      "15 rows affected.\n"
     ]
    },
    {
     "data": {
      "text/html": [
       "<table>\n",
       "    <thead>\n",
       "        <tr>\n",
       "            <th>employee_id</th>\n",
       "            <th>first_name</th>\n",
       "            <th>last_name</th>\n",
       "            <th>hire_date</th>\n",
       "            <th>job_id</th>\n",
       "            <th>manager_id</th>\n",
       "            <th>department_id</th>\n",
       "        </tr>\n",
       "    </thead>\n",
       "    <tbody>\n",
       "        <tr>\n",
       "            <td>200</td>\n",
       "            <td>Alice</td>\n",
       "            <td>Johnson</td>\n",
       "            <td>1990-01-15</td>\n",
       "            <td>HR_REP</td>\n",
       "            <td>201</td>\n",
       "            <td>40</td>\n",
       "        </tr>\n",
       "        <tr>\n",
       "            <td>201</td>\n",
       "            <td>Bob</td>\n",
       "            <td>Smith</td>\n",
       "            <td>1990-02-20</td>\n",
       "            <td>HR_MGR</td>\n",
       "            <td>None</td>\n",
       "            <td>40</td>\n",
       "        </tr>\n",
       "        <tr>\n",
       "            <td>202</td>\n",
       "            <td>Charlie</td>\n",
       "            <td>Brown</td>\n",
       "            <td>1990-03-25</td>\n",
       "            <td>IT_PROG</td>\n",
       "            <td>203</td>\n",
       "            <td>60</td>\n",
       "        </tr>\n",
       "        <tr>\n",
       "            <td>203</td>\n",
       "            <td>David</td>\n",
       "            <td>Wilson</td>\n",
       "            <td>1990-04-30</td>\n",
       "            <td>IT_MGR</td>\n",
       "            <td>None</td>\n",
       "            <td>60</td>\n",
       "        </tr>\n",
       "        <tr>\n",
       "            <td>204</td>\n",
       "            <td>Eva</td>\n",
       "            <td>Davis</td>\n",
       "            <td>1990-05-05</td>\n",
       "            <td>SA_REP</td>\n",
       "            <td>205</td>\n",
       "            <td>80</td>\n",
       "        </tr>\n",
       "        <tr>\n",
       "            <td>205</td>\n",
       "            <td>Frank</td>\n",
       "            <td>Miller</td>\n",
       "            <td>1990-06-10</td>\n",
       "            <td>SA_MGR</td>\n",
       "            <td>None</td>\n",
       "            <td>80</td>\n",
       "        </tr>\n",
       "        <tr>\n",
       "            <td>206</td>\n",
       "            <td>Grace</td>\n",
       "            <td>Lee</td>\n",
       "            <td>1990-07-15</td>\n",
       "            <td>FI_ACCOUNT</td>\n",
       "            <td>207</td>\n",
       "            <td>100</td>\n",
       "        </tr>\n",
       "        <tr>\n",
       "            <td>207</td>\n",
       "            <td>Hank</td>\n",
       "            <td>Taylor</td>\n",
       "            <td>1990-08-20</td>\n",
       "            <td>FI_MGR</td>\n",
       "            <td>None</td>\n",
       "            <td>100</td>\n",
       "        </tr>\n",
       "        <tr>\n",
       "            <td>208</td>\n",
       "            <td>Ivy</td>\n",
       "            <td>Anderson</td>\n",
       "            <td>1990-09-25</td>\n",
       "            <td>PU_CLERK</td>\n",
       "            <td>209</td>\n",
       "            <td>30</td>\n",
       "        </tr>\n",
       "        <tr>\n",
       "            <td>209</td>\n",
       "            <td>Jack</td>\n",
       "            <td>Thomas</td>\n",
       "            <td>1990-10-30</td>\n",
       "            <td>PU_MAN</td>\n",
       "            <td>None</td>\n",
       "            <td>30</td>\n",
       "        </tr>\n",
       "        <tr>\n",
       "            <td>210</td>\n",
       "            <td>Karen</td>\n",
       "            <td>White</td>\n",
       "            <td>1990-11-05</td>\n",
       "            <td>ST_CLERK</td>\n",
       "            <td>211</td>\n",
       "            <td>50</td>\n",
       "        </tr>\n",
       "        <tr>\n",
       "            <td>211</td>\n",
       "            <td>Leo</td>\n",
       "            <td>Harris</td>\n",
       "            <td>1990-12-10</td>\n",
       "            <td>ST_MGR</td>\n",
       "            <td>None</td>\n",
       "            <td>50</td>\n",
       "        </tr>\n",
       "        <tr>\n",
       "            <td>212</td>\n",
       "            <td>Mia</td>\n",
       "            <td>Clark</td>\n",
       "            <td>1991-01-15</td>\n",
       "            <td>AD_ASST</td>\n",
       "            <td>213</td>\n",
       "            <td>90</td>\n",
       "        </tr>\n",
       "        <tr>\n",
       "            <td>213</td>\n",
       "            <td>Nina</td>\n",
       "            <td>Lewis</td>\n",
       "            <td>1991-02-20</td>\n",
       "            <td>AD_VP</td>\n",
       "            <td>214</td>\n",
       "            <td>90</td>\n",
       "        </tr>\n",
       "        <tr>\n",
       "            <td>214</td>\n",
       "            <td>Oscar</td>\n",
       "            <td>Walker</td>\n",
       "            <td>1991-03-25</td>\n",
       "            <td>AD_PRES</td>\n",
       "            <td>None</td>\n",
       "            <td>90</td>\n",
       "        </tr>\n",
       "    </tbody>\n",
       "</table>"
      ],
      "text/plain": [
       "[(200, 'Alice', 'Johnson', datetime.date(1990, 1, 15), 'HR_REP', 201, 40),\n",
       " (201, 'Bob', 'Smith', datetime.date(1990, 2, 20), 'HR_MGR', None, 40),\n",
       " (202, 'Charlie', 'Brown', datetime.date(1990, 3, 25), 'IT_PROG', 203, 60),\n",
       " (203, 'David', 'Wilson', datetime.date(1990, 4, 30), 'IT_MGR', None, 60),\n",
       " (204, 'Eva', 'Davis', datetime.date(1990, 5, 5), 'SA_REP', 205, 80),\n",
       " (205, 'Frank', 'Miller', datetime.date(1990, 6, 10), 'SA_MGR', None, 80),\n",
       " (206, 'Grace', 'Lee', datetime.date(1990, 7, 15), 'FI_ACCOUNT', 207, 100),\n",
       " (207, 'Hank', 'Taylor', datetime.date(1990, 8, 20), 'FI_MGR', None, 100),\n",
       " (208, 'Ivy', 'Anderson', datetime.date(1990, 9, 25), 'PU_CLERK', 209, 30),\n",
       " (209, 'Jack', 'Thomas', datetime.date(1990, 10, 30), 'PU_MAN', None, 30),\n",
       " (210, 'Karen', 'White', datetime.date(1990, 11, 5), 'ST_CLERK', 211, 50),\n",
       " (211, 'Leo', 'Harris', datetime.date(1990, 12, 10), 'ST_MGR', None, 50),\n",
       " (212, 'Mia', 'Clark', datetime.date(1991, 1, 15), 'AD_ASST', 213, 90),\n",
       " (213, 'Nina', 'Lewis', datetime.date(1991, 2, 20), 'AD_VP', 214, 90),\n",
       " (214, 'Oscar', 'Walker', datetime.date(1991, 3, 25), 'AD_PRES', None, 90)]"
      ]
     },
     "execution_count": 8,
     "metadata": {},
     "output_type": "execute_result"
    }
   ],
   "source": [
    "%%sql postgresql:///jovyan\n",
    "SELECT * FROM Staff"
   ]
  },
  {
   "cell_type": "code",
   "execution_count": null,
   "id": "9979f95f-3378-4700-ad68-a84c26af9fca",
   "metadata": {},
   "outputs": [],
   "source": []
  },
  {
   "cell_type": "code",
   "execution_count": 19,
   "id": "ddec07b2-9c6f-4e24-990a-91aef70870f4",
   "metadata": {},
   "outputs": [
    {
     "name": "stdout",
     "output_type": "stream",
     "text": [
      "(psycopg2.errors.DuplicateTable) relation \"divisions\" already exists\n",
      "\n",
      "[SQL: CREATE TABLE Divisions (  \n",
      "    DEPARTMENT_ID INT PRIMARY KEY,  \n",
      "    DEPARTMENT_NAME VARCHAR(100),  \n",
      "    MANAGER_ID INT  \n",
      ");]\n",
      "(Background on this error at: https://sqlalche.me/e/20/f405)\n"
     ]
    }
   ],
   "source": [
    "%%sql postgresql:///jovyan\n",
    "CREATE TABLE Divisions (  \n",
    "    DEPARTMENT_ID INT PRIMARY KEY,  \n",
    "    DEPARTMENT_NAME VARCHAR(100),  \n",
    "    MANAGER_ID INT  \n",
    ");  \n",
    "\n"
   ]
  },
  {
   "cell_type": "code",
   "execution_count": 20,
   "id": "c7487c88-68a6-474e-bd80-49805669f1ed",
   "metadata": {
    "tags": []
   },
   "outputs": [
    {
     "name": "stdout",
     "output_type": "stream",
     "text": [
      "10 rows affected.\n"
     ]
    },
    {
     "data": {
      "text/plain": [
       "[]"
      ]
     },
     "execution_count": 20,
     "metadata": {},
     "output_type": "execute_result"
    }
   ],
   "source": [
    "%%sql postgresql:///jovyan\n",
    "INSERT INTO Divisions (DEPARTMENT_ID, DEPARTMENT_NAME, MANAGER_ID) VALUES  \n",
    "(10, 'Administration', 200),  \n",
    "(30, 'Purchasing', 114),  \n",
    "(40, 'HumanResources', 203),  \n",
    "(50, 'Shipping', 121),  \n",
    "(60, 'IT', 103),  \n",
    "(70, 'PublicRelations', 204),  \n",
    "(80, 'Sales', 145),  \n",
    "(90, 'Executive', 100),  \n",
    "(100, 'Finance', 108),  \n",
    "(110, 'Accounting', 205);"
   ]
  },
  {
   "cell_type": "code",
   "execution_count": 21,
   "id": "ccc34e03-7bb7-4249-b82f-eb3c84c3c200",
   "metadata": {
    "tags": []
   },
   "outputs": [
    {
     "name": "stdout",
     "output_type": "stream",
     "text": [
      "10 rows affected.\n"
     ]
    },
    {
     "data": {
      "text/html": [
       "<table>\n",
       "    <thead>\n",
       "        <tr>\n",
       "            <th>department_id</th>\n",
       "            <th>department_name</th>\n",
       "            <th>manager_id</th>\n",
       "        </tr>\n",
       "    </thead>\n",
       "    <tbody>\n",
       "        <tr>\n",
       "            <td>10</td>\n",
       "            <td>Administration</td>\n",
       "            <td>200</td>\n",
       "        </tr>\n",
       "        <tr>\n",
       "            <td>30</td>\n",
       "            <td>Purchasing</td>\n",
       "            <td>114</td>\n",
       "        </tr>\n",
       "        <tr>\n",
       "            <td>40</td>\n",
       "            <td>HumanResources</td>\n",
       "            <td>203</td>\n",
       "        </tr>\n",
       "        <tr>\n",
       "            <td>50</td>\n",
       "            <td>Shipping</td>\n",
       "            <td>121</td>\n",
       "        </tr>\n",
       "        <tr>\n",
       "            <td>60</td>\n",
       "            <td>IT</td>\n",
       "            <td>103</td>\n",
       "        </tr>\n",
       "        <tr>\n",
       "            <td>70</td>\n",
       "            <td>PublicRelations</td>\n",
       "            <td>204</td>\n",
       "        </tr>\n",
       "        <tr>\n",
       "            <td>80</td>\n",
       "            <td>Sales</td>\n",
       "            <td>145</td>\n",
       "        </tr>\n",
       "        <tr>\n",
       "            <td>90</td>\n",
       "            <td>Executive</td>\n",
       "            <td>100</td>\n",
       "        </tr>\n",
       "        <tr>\n",
       "            <td>100</td>\n",
       "            <td>Finance</td>\n",
       "            <td>108</td>\n",
       "        </tr>\n",
       "        <tr>\n",
       "            <td>110</td>\n",
       "            <td>Accounting</td>\n",
       "            <td>205</td>\n",
       "        </tr>\n",
       "    </tbody>\n",
       "</table>"
      ],
      "text/plain": [
       "[(10, 'Administration', 200),\n",
       " (30, 'Purchasing', 114),\n",
       " (40, 'HumanResources', 203),\n",
       " (50, 'Shipping', 121),\n",
       " (60, 'IT', 103),\n",
       " (70, 'PublicRelations', 204),\n",
       " (80, 'Sales', 145),\n",
       " (90, 'Executive', 100),\n",
       " (100, 'Finance', 108),\n",
       " (110, 'Accounting', 205)]"
      ]
     },
     "execution_count": 21,
     "metadata": {},
     "output_type": "execute_result"
    }
   ],
   "source": [
    "%%sql postgresql:///jovyan\n",
    "SELECT * FROM Divisions"
   ]
  },
  {
   "cell_type": "markdown",
   "id": "3c4a58f2-036a-4127-a69c-0cc5fac6ed96",
   "metadata": {},
   "source": [
    "Write a query: Output the Department_name which has the longest-working employee in the company, together with the First_name + Last_name of this employee."
   ]
  },
  {
   "cell_type": "code",
   "execution_count": null,
   "id": "3de0b595-51ea-4a5e-956f-75bd339187e9",
   "metadata": {},
   "outputs": [],
   "source": [
    "%%sql $CONNECT_DATA\n",
    "SELECT   \n",
    "    d.DEPARTMENT_NAME,   \n",
    "    CONCAT(e.FIRST_NAME, ' ', e.LAST_NAME) AS Employee_Name  \n",
    "FROM   \n",
    "    Employees e  \n",
    "JOIN   \n",
    "    Departments d ON e.DEPARTMENT_ID = d.DEPARTMENT_ID  \n",
    "WHERE   \n",
    "    e.HIRE_DATE = (SELECT MIN(HIRE_DATE) FROM Employees);"
   ]
  }
 ],
 "metadata": {
  "kernelspec": {
   "display_name": "Python 3 (ipykernel)",
   "language": "python",
   "name": "python3"
  },
  "language_info": {
   "codemirror_mode": {
    "name": "ipython",
    "version": 3
   },
   "file_extension": ".py",
   "mimetype": "text/x-python",
   "name": "python",
   "nbconvert_exporter": "python",
   "pygments_lexer": "ipython3",
   "version": "3.10.9"
  }
 },
 "nbformat": 4,
 "nbformat_minor": 5
}
