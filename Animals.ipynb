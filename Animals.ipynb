{
 "cells": [
  {
   "cell_type": "code",
   "execution_count": 2,
   "id": "5ead076f-b04a-44a9-b266-34cd6c60e2e3",
   "metadata": {
    "tags": []
   },
   "outputs": [
    {
     "name": "stdout",
     "output_type": "stream",
     "text": [
      "Dumbo is a elephant\n",
      "Age in 2023: 23\n",
      "Balto is a dog\n",
      "Age in 2023: 13\n",
      "Kaa is a python\n",
      "Age in 2023: 8\n",
      "Finn is a fox\n",
      "Age in 2023: 5\n",
      "The oldest animal is Dumbo, a elephant, and is 23 years old.\n"
     ]
    }
   ],
   "source": [
    "class Animal:  \n",
    "    def __init__(self, genus, name, year_of_birth, additional_info=None):  \n",
    "        self.genus = genus  \n",
    "        self.name = name  \n",
    "        self.year_of_birth = year_of_birth  \n",
    "        self.additional_info = additional_info  \n",
    "\n",
    "    def get_age(self, year):  \n",
    "        return year - self.year_of_birth  \n",
    "\n",
    "    def get_info(self):  \n",
    "        return f\"{self.name} is a {self.genus}\"  \n",
    "\n",
    "   # @staticmethod  \n",
    "    def find_oldest_animal(animals, current_year):  \n",
    "        oldest_animal = None  \n",
    "        max_age = -1  \n",
    "        for animal in animals:  \n",
    "            age = animal.get_age(current_year)  \n",
    "            if age > max_age:  \n",
    "                max_age = age  \n",
    "                oldest_animal = animal  \n",
    "        return oldest_animal  \n",
    "\n",
    "def write_animals_to_file(animals, filename='animals.txt'):  \n",
    "    with open(filename, 'w') as file:  \n",
    "        for animal in animals:  \n",
    "            file.write(f\"{animal.name}, {animal.genus}\\n\")  \n",
    "\n",
    "# Create a list of animals  \n",
    "animals = [  \n",
    "    Animal('elephant', 'Dumbo', 2000),  \n",
    "    Animal('dog', 'Balto', 2010),  \n",
    "    Animal('python', 'Kaa', 2015),  \n",
    "    Animal('fox', 'Finn', 2018)  \n",
    "]  \n",
    "\n",
    "# Show the information and age of each animal  \n",
    "current_year = 2023  \n",
    "for animal in animals:  \n",
    "    print(animal.get_info())  \n",
    "    print(f\"Age in {current_year}: {animal.get_age(current_year)}\")  \n",
    "\n",
    "# Find the oldest animal  \n",
    "oldest = Animal.find_oldest_animal(animals, current_year)  \n",
    "if oldest:  \n",
    "    print(f\"The oldest animal is {oldest.name}, a {oldest.genus}, and is {oldest.get_age(current_year)} years old.\")  \n",
    "\n",
    "# Write animal information to file  \n",
    "write_animals_to_file(animals)"
   ]
  },
  {
   "cell_type": "code",
   "execution_count": null,
   "id": "8d943d07-b347-452a-a69b-b14559b5c064",
   "metadata": {},
   "outputs": [],
   "source": []
  }
 ],
 "metadata": {
  "kernelspec": {
   "display_name": "Python 3 (ipykernel)",
   "language": "python",
   "name": "python3"
  },
  "language_info": {
   "codemirror_mode": {
    "name": "ipython",
    "version": 3
   },
   "file_extension": ".py",
   "mimetype": "text/x-python",
   "name": "python",
   "nbconvert_exporter": "python",
   "pygments_lexer": "ipython3",
   "version": "3.10.8"
  }
 },
 "nbformat": 4,
 "nbformat_minor": 5
}
