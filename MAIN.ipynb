{
 "cells": [
  {
   "cell_type": "code",
   "execution_count": 3,
   "id": "d63ba5fb-fcaa-48be-b0c7-08edd597604e",
   "metadata": {
    "tags": []
   },
   "outputs": [],
   "source": [
    "import smallest  \n",
    "import lists  \n",
    "\n",
    "# Open the result file  \n",
    "with open(\"result.txt\", \"w\") as result_file:  \n",
    "    # List of lists defined in lists.py  \n",
    "    all_lists = [lists.list1, lists.list2, lists.list3, lists.list4]  \n",
    "\n",
    "    # Iterate over each list and get the two smallest values  \n",
    "    for idx, current_list in enumerate(all_lists, start=1):  \n",
    "        try:  \n",
    "            two_smallest = smallest.find_two_smallest(current_list)  \n",
    "            result_file.write(f\"List {idx}: {current_list} -> Two smallest: {two_smallest}\\n\")  \n",
    "        except ValueError as ve:  \n",
    "            result_file.write(f\"List {idx}: {current_list} -> Error: {str(ve)}\\n\")"
   ]
  },
  {
   "cell_type": "code",
   "execution_count": null,
   "id": "270dd577-c67b-482a-bba9-195d37b2551d",
   "metadata": {},
   "outputs": [],
   "source": []
  },
  {
   "cell_type": "code",
   "execution_count": null,
   "id": "b0da9110-7c74-42dc-bdc8-14a3a73e9f60",
   "metadata": {},
   "outputs": [],
   "source": []
  }
 ],
 "metadata": {
  "kernelspec": {
   "display_name": "Python 3 (ipykernel)",
   "language": "python",
   "name": "python3"
  },
  "language_info": {
   "codemirror_mode": {
    "name": "ipython",
    "version": 3
   },
   "file_extension": ".py",
   "mimetype": "text/x-python",
   "name": "python",
   "nbconvert_exporter": "python",
   "pygments_lexer": "ipython3",
   "version": "3.10.8"
  }
 },
 "nbformat": 4,
 "nbformat_minor": 5
}
