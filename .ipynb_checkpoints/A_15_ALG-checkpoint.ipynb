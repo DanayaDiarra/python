{
 "cells": [
  {
   "cell_type": "code",
   "execution_count": 2,
   "id": "c1dbe237-3cc2-44ce-924e-7d09befc731a",
   "metadata": {
    "tags": []
   },
   "outputs": [
    {
     "name": "stdout",
     "output_type": "stream",
     "text": [
      "Recommended lengths to cut the rod: [2, 6]\n"
     ]
    }
   ],
   "source": [
    "def rod_cutting(n, prices):  \n",
    "# Create a list to store the maximum obtainable profit for each length  \n",
    "    max_profit = [0] * (n + 1)  \n",
    "# Create a list to keep track of recommended cuts  \n",
    "    cuts = [0] * (n + 1)  \n",
    "\n",
    "    for length in range(1, n + 1):  \n",
    "        for cut in range(1, length + 1):  \n",
    "            if cut <= len(prices) and prices[cut - 1] + max_profit[length - cut] > max_profit[length]:  \n",
    "                max_profit[length] = prices[cut - 1] + max_profit[length - cut]  \n",
    "                cuts[length] = cut  \n",
    "\n",
    "    # Generate the list of recommended lengths based on cuts  \n",
    "    recommended_lengths = []  \n",
    "    while n > 0:  \n",
    "        recommended_lengths.append(cuts[n])  \n",
    "        n -= cuts[n]  \n",
    "\n",
    "    return recommended_lengths  \n",
    "\n",
    " \n",
    "rod_length = 8  \n",
    "price_array = [1, 5, 8, 9, 10, 17, 17, 20]  \n",
    "\n",
    "recommended_cuts = rod_cutting(rod_length, price_array)  \n",
    "print(\"Recommended lengths to cut the rod:\", recommended_cuts)"
   ]
  },
  {
   "cell_type": "code",
   "execution_count": null,
   "id": "3791a6c4-8002-47f3-878b-cf25698313f9",
   "metadata": {},
   "outputs": [],
   "source": []
  }
 ],
 "metadata": {
  "kernelspec": {
   "display_name": "Python 3 (ipykernel)",
   "language": "python",
   "name": "python3"
  },
  "language_info": {
   "codemirror_mode": {
    "name": "ipython",
    "version": 3
   },
   "file_extension": ".py",
   "mimetype": "text/x-python",
   "name": "python",
   "nbconvert_exporter": "python",
   "pygments_lexer": "ipython3",
   "version": "3.10.9"
  }
 },
 "nbformat": 4,
 "nbformat_minor": 5
}
