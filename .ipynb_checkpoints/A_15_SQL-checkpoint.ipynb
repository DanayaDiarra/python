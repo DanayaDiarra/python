{
 "cells": [
  {
   "cell_type": "code",
   "execution_count": 10,
   "id": "95097ed5-a0c8-4e1f-a5cc-fc24779a0585",
   "metadata": {
    "tags": []
   },
   "outputs": [
    {
     "name": "stdout",
     "output_type": "stream",
     "text": [
      "The sql extension is already loaded. To reload it, use:\n",
      "  %reload_ext sql\n"
     ]
    }
   ],
   "source": [
    "%load_ext sql"
   ]
  },
  {
   "cell_type": "code",
   "execution_count": 11,
   "id": "5633cab9-4f27-4f8b-b4df-11f98945f4cc",
   "metadata": {
    "tags": []
   },
   "outputs": [],
   "source": [
    "CONNECT_DATA = 'postgresql://{}:{}@{}/{}'.format(\n",
    "    os.environ['POSTGRESQL_USER'],\n",
    "    os.environ['POSTGRESQL_PASSWORD'],\n",
    "    POSTGRESQL_HOST,\n",
    "    'demo'\n",
    ")"
   ]
  },
  {
   "cell_type": "code",
   "execution_count": 12,
   "id": "330de29b-c4e9-44dc-9146-5db2a2f7050b",
   "metadata": {
    "tags": []
   },
   "outputs": [
    {
     "name": "stdout",
     "output_type": "stream",
     "text": [
      "10 rows affected.\n"
     ]
    },
    {
     "data": {
      "text/html": [
       "<table>\n",
       "    <thead>\n",
       "        <tr>\n",
       "            <th>flight_id</th>\n",
       "            <th>aircraft_code</th>\n",
       "            <th>departure_airport</th>\n",
       "        </tr>\n",
       "    </thead>\n",
       "    <tbody>\n",
       "        <tr>\n",
       "            <td>21648</td>\n",
       "            <td>321</td>\n",
       "            <td>VKO</td>\n",
       "        </tr>\n",
       "        <tr>\n",
       "            <td>32925</td>\n",
       "            <td>321</td>\n",
       "            <td>SVO</td>\n",
       "        </tr>\n",
       "        <tr>\n",
       "            <td>33248</td>\n",
       "            <td>321</td>\n",
       "            <td>SVO</td>\n",
       "        </tr>\n",
       "        <tr>\n",
       "            <td>33329</td>\n",
       "            <td>321</td>\n",
       "            <td>SVO</td>\n",
       "        </tr>\n",
       "        <tr>\n",
       "            <td>33736</td>\n",
       "            <td>321</td>\n",
       "            <td>SVO</td>\n",
       "        </tr>\n",
       "        <tr>\n",
       "            <td>108115</td>\n",
       "            <td>CR2</td>\n",
       "            <td>NJC</td>\n",
       "        </tr>\n",
       "        <tr>\n",
       "            <td>177397</td>\n",
       "            <td>CR2</td>\n",
       "            <td>REN</td>\n",
       "        </tr>\n",
       "        <tr>\n",
       "            <td>1</td>\n",
       "            <td>321</td>\n",
       "            <td>DME</td>\n",
       "        </tr>\n",
       "        <tr>\n",
       "            <td>2</td>\n",
       "            <td>321</td>\n",
       "            <td>DME</td>\n",
       "        </tr>\n",
       "        <tr>\n",
       "            <td>3</td>\n",
       "            <td>321</td>\n",
       "            <td>DME</td>\n",
       "        </tr>\n",
       "    </tbody>\n",
       "</table>"
      ],
      "text/plain": [
       "[(21648, '321', 'VKO'),\n",
       " (32925, '321', 'SVO'),\n",
       " (33248, '321', 'SVO'),\n",
       " (33329, '321', 'SVO'),\n",
       " (33736, '321', 'SVO'),\n",
       " (108115, 'CR2', 'NJC'),\n",
       " (177397, 'CR2', 'REN'),\n",
       " (1, '321', 'DME'),\n",
       " (2, '321', 'DME'),\n",
       " (3, '321', 'DME')]"
      ]
     },
     "execution_count": 12,
     "metadata": {},
     "output_type": "execute_result"
    }
   ],
   "source": [
    "%%sql $CONNECT_DATA\n",
    "    SELECT flight_id, aircraft_code, departure_airport FROM Flights  WHERE arrival_airport='LED' limit 10"
   ]
  },
  {
   "cell_type": "code",
   "execution_count": 13,
   "id": "af40426b-679f-4cb3-86ce-bc13ba38e1be",
   "metadata": {},
   "outputs": [],
   "source": [
    "import os\n",
    "import json\n",
    "import psycopg2\n",
    "from psycopg2.extras import DictCursor"
   ]
  },
  {
   "cell_type": "code",
   "execution_count": 14,
   "id": "4f6292f2-49a3-42e5-824c-c9867b4d9448",
   "metadata": {},
   "outputs": [],
   "source": [
    "POSTGRESQL_HOST = '10.129.0.25'"
   ]
  },
  {
   "cell_type": "code",
   "execution_count": 15,
   "id": "95667d46-6243-46c0-9de0-8062dcbf3c59",
   "metadata": {},
   "outputs": [
    {
     "name": "stdout",
     "output_type": "stream",
     "text": [
      "POSTGRESQL_USER=reader\n",
      "POSTGRESQL_PASSWORD=Miba2021\n"
     ]
    }
   ],
   "source": [
    "!env | grep POST"
   ]
  },
  {
   "cell_type": "code",
   "execution_count": 16,
   "id": "b722c6f5-f899-45d7-9f18-7dda093a8092",
   "metadata": {},
   "outputs": [],
   "source": [
    " conn = psycopg2.connect(\n",
    "    dbname='demo', \n",
    "    user=os.environ['POSTGRESQL_USER'],\n",
    "    password=os.environ['POSTGRESQL_PASSWORD'], \n",
    "    host=POSTGRESQL_HOST\n",
    ")\n",
    "cur = conn.cursor()"
   ]
  },
  {
   "cell_type": "code",
   "execution_count": 17,
   "id": "0ebd71df-22d1-44a3-9593-1e6c54dacb1e",
   "metadata": {
    "tags": []
   },
   "outputs": [],
   "source": [
    "query = 'SELECT ticket_no, passenger_id, passenger_name FROM Tickets'"
   ]
  },
  {
   "cell_type": "code",
   "execution_count": 18,
   "id": "11ae23fd-6a1c-4d3d-90ed-c7f0ed7218df",
   "metadata": {
    "tags": []
   },
   "outputs": [
    {
     "name": "stderr",
     "output_type": "stream",
     "text": [
      "IOPub data rate exceeded.\n",
      "The Jupyter server will temporarily stop sending output\n",
      "to the client in order to avoid crashing it.\n",
      "To change this limit, set the config variable\n",
      "`--ServerApp.iopub_data_rate_limit`.\n",
      "\n",
      "Current values:\n",
      "ServerApp.iopub_data_rate_limit=1000000.0 (bytes/sec)\n",
      "ServerApp.rate_limit_window=3.0 (secs)\n",
      "\n"
     ]
    }
   ],
   "source": [
    "cur.execute(query)\n",
    "records = cur.fetchall()\n",
    "print(records)"
   ]
  },
  {
   "cell_type": "code",
   "execution_count": null,
   "id": "d7322a53-f747-4485-8750-6eb6ba7ba15f",
   "metadata": {},
   "outputs": [],
   "source": []
  }
 ],
 "metadata": {
  "kernelspec": {
   "display_name": "Python 3 (ipykernel)",
   "language": "python",
   "name": "python3"
  },
  "language_info": {
   "codemirror_mode": {
    "name": "ipython",
    "version": 3
   },
   "file_extension": ".py",
   "mimetype": "text/x-python",
   "name": "python",
   "nbconvert_exporter": "python",
   "pygments_lexer": "ipython3",
   "version": "3.10.9"
  }
 },
 "nbformat": 4,
 "nbformat_minor": 5
}
