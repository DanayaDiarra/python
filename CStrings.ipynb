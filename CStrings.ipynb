{
 "cells": [
  {
   "cell_type": "code",
   "execution_count": 2,
   "id": "9a6734e7-5750-4186-9b75-2f5b9d0ce791",
   "metadata": {
    "tags": []
   },
   "outputs": [
    {
     "name": "stdout",
     "output_type": "stream",
     "text": [
      "The number of string elements in the list: 3\n"
     ]
    }
   ],
   "source": [
    "\n",
    "\n",
    "# Creating a list with elements of different types  \n",
    "mixed_list = [1, \"hello\", 3.14, True, \"world\", None, 42, \"Python\", 7.5]  \n",
    "\n",
    "# Initializing a counter for string elements  \n",
    "string_count = 0  \n",
    "\n",
    "# Count the number of string elements in the list  \n",
    "for i in mixed_list:  \n",
    "    if type(i) == str:  \n",
    "        string_count += 1  \n",
    "\n",
    "print(f'The number of string elements in the list: {string_count}')"
   ]
  },
  {
   "cell_type": "code",
   "execution_count": null,
   "id": "be4a0484-dad3-43f7-a819-bd14fd92125e",
   "metadata": {},
   "outputs": [],
   "source": []
  }
 ],
 "metadata": {
  "kernelspec": {
   "display_name": "Python 3 (ipykernel)",
   "language": "python",
   "name": "python3"
  },
  "language_info": {
   "codemirror_mode": {
    "name": "ipython",
    "version": 3
   },
   "file_extension": ".py",
   "mimetype": "text/x-python",
   "name": "python",
   "nbconvert_exporter": "python",
   "pygments_lexer": "ipython3",
   "version": "3.10.8"
  }
 },
 "nbformat": 4,
 "nbformat_minor": 5
}
