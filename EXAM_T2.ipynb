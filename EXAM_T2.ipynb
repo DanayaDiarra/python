{
 "cells": [
  {
   "cell_type": "code",
   "execution_count": 8,
   "id": "c89c7b21-99ab-49ed-b21b-83986edf1a9e",
   "metadata": {
    "tags": []
   },
   "outputs": [
    {
     "name": "stdout",
     "output_type": "stream",
     "text": [
      "True\n",
      "False\n",
      "True\n",
      "False\n",
      "False\n"
     ]
    }
   ],
   "source": [
    "def is_power(base, number):   \n",
    "    if base <= 1:  \n",
    "        return number == 1  # 1 is the power of any number, and bases <= 1 are not valid for powers  \n",
    "    if number < 1:  \n",
    "        return False  # No positive number can be a power of another if it's less than 1    \n",
    "    power = base    \n",
    "    while power < number:  \n",
    "        power *= base   \n",
    "    return power == number  \n",
    "\n",
    "  \n",
    "print(is_power(2, 16))         \n",
    "print(is_power(2, 12))        \n",
    "print(is_power(10, 100000))    \n",
    "print(is_power(9, 990))        \n",
    "print(is_power(2, 0))          "
   ]
  },
  {
   "cell_type": "code",
   "execution_count": null,
   "id": "c10b6eb5-b589-42ff-a670-49e0d65788f8",
   "metadata": {},
   "outputs": [],
   "source": []
  }
 ],
 "metadata": {
  "kernelspec": {
   "display_name": "Python 3 (ipykernel)",
   "language": "python",
   "name": "python3"
  },
  "language_info": {
   "codemirror_mode": {
    "name": "ipython",
    "version": 3
   },
   "file_extension": ".py",
   "mimetype": "text/x-python",
   "name": "python",
   "nbconvert_exporter": "python",
   "pygments_lexer": "ipython3",
   "version": "3.10.9"
  }
 },
 "nbformat": 4,
 "nbformat_minor": 5
}
